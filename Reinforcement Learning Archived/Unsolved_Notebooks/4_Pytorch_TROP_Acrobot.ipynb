{
  "cells": [
    {
      "cell_type": "markdown",
      "metadata": {
        "id": "UfCdwmQvYE4F"
      },
      "source": [
        "# Contents\n",
        "\n",
        "In this notebook, you are required implement the TRPO algorithm using Pytorch and train it on the [Acrobot](https://www.gymlibrary.dev/environments/classic_control/acrobot/) environment.\n",
        "\n",
        "Make sure to show the performance of your agent in the form of a visualization after training."
      ]
    },
    {
      "cell_type": "code",
      "execution_count": 1,
      "metadata": {
        "id": "REb7qyB0LPtD"
      },
      "outputs": [],
      "source": [
        "import gym\n",
        "import numpy as np\n",
        "import torch\n",
        "import torch.nn as nn\n",
        "import matplotlib.pyplot as plt\n",
        "from torch.optim import Adam\n",
        "from torch.distributions import Categorical\n",
        "from collections import namedtuple\n",
        "\n",
        "import matplotlib.pyplot as plt\n",
        "from matplotlib.animation import FuncAnimation\n",
        "from IPython.display import HTML"
      ]
    },
    {
      "cell_type": "markdown",
      "metadata": {
        "id": "njaA-g3OYdLn"
      },
      "source": [
        "### Initializing the environment\n",
        "\n",
        "Feel free to use gymnasium instead of gym.\n",
        "\n",
        "If you're on Colab you'll have to install gymnasium first"
      ]
    },
    {
      "cell_type": "code",
      "execution_count": 2,
      "metadata": {
        "colab": {
          "base_uri": "https://localhost:8080/"
        },
        "id": "ZdTUUJaXLhL8",
        "outputId": "e534fcde-6891-4d6b-9f3a-2c45c42a9bde"
      },
      "outputs": [
        {
          "name": "stdout",
          "output_type": "stream",
          "text": [
            "6\n",
            "3\n"
          ]
        },
        {
          "name": "stderr",
          "output_type": "stream",
          "text": [
            "/usr/local/lib/python3.10/dist-packages/ipykernel/ipkernel.py:283: DeprecationWarning: `should_run_async` will not call `transform_cell` automatically in the future. Please pass the result to `transformed_cell` argument and any exception that happen during thetransform in `preprocessing_exc_tuple` in IPython 7.17 and above.\n",
            "  and should_run_async(code)\n",
            "/usr/local/lib/python3.10/dist-packages/gym/core.py:317: DeprecationWarning: \u001b[33mWARN: Initializing wrapper in old step API which returns one bool instead of two. It is recommended to set `new_step_api=True` to use new step API. This will be the default behaviour in future.\u001b[0m\n",
            "  deprecation(\n",
            "/usr/local/lib/python3.10/dist-packages/gym/wrappers/step_api_compatibility.py:39: DeprecationWarning: \u001b[33mWARN: Initializing environment in old step API which returns one bool instead of two. It is recommended to set `new_step_api=True` to use new step API. This will be the default behaviour in future.\u001b[0m\n",
            "  deprecation(\n"
          ]
        }
      ],
      "source": [
        "# You can ignore the warning. It happens because we're using gym instead of gymnasium.\n",
        "# And in gym, the newer api returns 2 bools(terminated and truncated) instead of just 1 and it warns us that we're using the old api\n",
        "env_name = 'Acrobot-v1'\n",
        "env = gym.make(env_name)\n",
        "\n",
        "state_size = env.observation_space.shape[0]\n",
        "num_actions = env.action_space.n\n",
        "\n",
        "Rollout = namedtuple('Rollout', ['states', 'actions', 'rewards', 'next_states', ])\n",
        "\n",
        "print(state_size)\n",
        "print(num_actions)"
      ]
    },
    {
      "cell_type": "markdown",
      "metadata": {
        "id": "OTLVQKQLY2DS"
      },
      "source": [
        "### Implementing the model\n",
        "\n",
        "Implement your TRPO model here.\n",
        "\n",
        "Use pytorch for the implementation"
      ]
    },
    {
      "cell_type": "code",
      "execution_count": null,
      "metadata": {},
      "outputs": [],
      "source": []
    },
    {
      "cell_type": "markdown",
      "metadata": {},
      "source": [
        "### Train the model\n",
        "\n",
        "Train your implemented model on the loaded environment here"
      ]
    },
    {
      "cell_type": "code",
      "execution_count": null,
      "metadata": {},
      "outputs": [],
      "source": []
    },
    {
      "cell_type": "markdown",
      "metadata": {
        "id": "vJ5RsYjgZKBz"
      },
      "source": [
        "## Visualizing the results\n",
        "\n",
        "Load a new environment(same env as training) and run your agent on it and generate visualiztion of the entire episode.\n",
        "\n",
        "One way is, load the env with param render_mode='rgb_array' and store all the frames of the episodes. You are provided with a helper function which converts frames into a video and displays it. Feel free to write your own visualization function or code if you wish."
      ]
    },
    {
      "cell_type": "code",
      "execution_count": 8,
      "metadata": {
        "id": "p-A1zPTqQG-9"
      },
      "outputs": [],
      "source": [
        "# Helper function to visualize frames as a video\n",
        "def frames_to_video(frames, fps=24):\n",
        "    fig = plt.figure(figsize=(frames[0].shape[1] / 100, frames[0].shape[0] / 100), dpi=100)\n",
        "    ax = plt.axes()\n",
        "    ax.set_axis_off()\n",
        "\n",
        "    if len(frames[0].shape) == 2:  # Grayscale image\n",
        "        im = ax.imshow(frames[0], cmap='gray')\n",
        "    else:  # Color image\n",
        "        im = ax.imshow(frames[0])\n",
        "\n",
        "    def init():\n",
        "        if len(frames[0].shape) == 2:\n",
        "            im.set_data(frames[0], cmap='gray')\n",
        "        else:\n",
        "            im.set_data(frames[0])\n",
        "        return im,\n",
        "\n",
        "    def update(frame):\n",
        "        if len(frames[frame].shape) == 2:\n",
        "            im.set_data(frames[frame], cmap='gray')\n",
        "        else:\n",
        "            im.set_data(frames[frame])\n",
        "        return im,\n",
        "\n",
        "    interval = 1000 / fps\n",
        "    anim = FuncAnimation(fig, update, frames=len(frames), init_func=init, blit=True, interval=interval)\n",
        "    plt.close()\n",
        "    return HTML(anim.to_html5_video())"
      ]
    },
    {
      "cell_type": "code",
      "execution_count": null,
      "metadata": {
        "id": "JbSUTogQQSS9"
      },
      "outputs": [],
      "source": []
    }
  ],
  "metadata": {
    "colab": {
      "provenance": []
    },
    "kernelspec": {
      "display_name": "Python 3",
      "name": "python3"
    },
    "language_info": {
      "name": "python"
    }
  },
  "nbformat": 4,
  "nbformat_minor": 0
}
