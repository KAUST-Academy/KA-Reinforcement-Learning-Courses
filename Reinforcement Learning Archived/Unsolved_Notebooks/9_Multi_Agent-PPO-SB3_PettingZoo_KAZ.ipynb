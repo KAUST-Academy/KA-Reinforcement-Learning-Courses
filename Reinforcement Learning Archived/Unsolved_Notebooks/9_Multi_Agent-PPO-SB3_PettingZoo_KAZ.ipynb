{
  "cells": [
    {
      "cell_type": "markdown",
      "metadata": {
        "id": "rlsboselyKbk"
      },
      "source": [
        "### Note\n",
        "\n",
        "Make sure cmake is installed on your machine before installing \"multi_agent_ale_py\"\n",
        "\n",
        "This notebook MIGHT not work on Windows machines(since multi_agent_ale_py is not officially supported for windows) but you can still give it a go"
      ]
    },
    {
      "cell_type": "code",
      "execution_count": 1,
      "metadata": {
        "id": "rpP9gxquula5"
      },
      "outputs": [],
      "source": [
        "from IPython.display import clear_output, Video"
      ]
    },
    {
      "cell_type": "code",
      "execution_count": 2,
      "metadata": {
        "id": "EUbAs3kkdn5g"
      },
      "outputs": [],
      "source": [
        "%pip install stable-baselines3[extra] pettingzoo\n",
        "%pip install multi_agent_ale_py\n",
        "%pip install supersuit\n",
        "\n",
        "clear_output()"
      ]
    },
    {
      "cell_type": "markdown",
      "metadata": {
        "id": "TeRQ6PP7gr99"
      },
      "source": [
        "# Contents\n",
        "\n",
        "In this notebook, you will a train multi-agent RL policy using Stable-Baselines-3.\n",
        "\n",
        "Make sure to include a visualizaiton to show the performance of your trained policy\n",
        "\n",
        "In multi-agent RL, we have an environment where multiple agents interact with each other(cooperative or competitive) and we train model(s)/policy to predict the actions of each of the agents.\n",
        "\n",
        "## Petting Zoo\n",
        "\n",
        "In this notebook, you will use the PettingZoo library. It's an open-source framework for multi-agent reinforcement learning(MARL), inspired by gym and follow the same process of standardized interface for the various environments it offers. You can look at the documentation of petting zoo as well as the environments it offers [here](https://pettingzoo.farama.org/index.html)\n",
        "\n",
        "## [Knights Archers Zombies](https://pettingzoo.farama.org/environments/butterfly/knights_archers_zombies/)\n",
        "\n",
        "The environment you'll use is Knights Archers Zombies(KAZ) environment. This environment consists of a 2D game. Here's how it works:\n",
        "\n",
        "Zombies walk from the top border of the screen down to the bottom border in unpredictable paths. The agents you control are knights and archers (default 2 knights and 2 archers) that are initially positioned at the bottom border of the screen. Each agent can rotate clockwise or counter-clockwise and move forward or backward. Each agent can also attack to kill zombies. When a knight attacks, it swings a mace in an arc in front of its current heading direction. When an archer attacks, it fires an arrow in a straight line in the direction of the archer’s heading. The game ends when all agents die (collide with a zombie) or a zombie reaches the bottom screen border. A knight is rewarded 1 point when its mace hits and kills a zombie. An archer is rewarded 1 point when one of their arrows hits and kills a zombie. There are two possible observation types for this environment, vectorized and image-based.\n",
        "\n",
        "Hint: Use the vectorized observations because it's faster to train the model that way. It's recommended to use the PPO algorithm but you can use anything else if you want."
      ]
    },
    {
      "cell_type": "code",
      "execution_count": 3,
      "metadata": {
        "id": "ILC9gLTZrbvE"
      },
      "outputs": [],
      "source": [
        "from __future__ import annotations\n",
        "\n",
        "import glob\n",
        "import os\n",
        "import time\n",
        "\n",
        "import supersuit as ss\n",
        "\n",
        "from pettingzoo.butterfly import knights_archers_zombies_v10\n",
        "\n",
        "import matplotlib.pyplot as plt\n",
        "from matplotlib.animation import FuncAnimation\n",
        "from IPython.display import HTML\n",
        "\n",
        "# Add SB3 imports as needed"
      ]
    },
    {
      "cell_type": "markdown",
      "metadata": {
        "id": "RVM3R6pZkqXg"
      },
      "source": [
        "## Creating the environment"
      ]
    },
    {
      "cell_type": "code",
      "execution_count": 4,
      "metadata": {
        "colab": {
          "base_uri": "https://localhost:8080/",
          "height": 90
        },
        "id": "ILxeoYwBrexG",
        "outputId": "73b410ce-c1fa-4f37-8ac6-36b8f1e9a0ad"
      },
      "outputs": [
        {
          "name": "stderr",
          "output_type": "stream",
          "text": [
            "/usr/lib/python3.10/multiprocessing/popen_fork.py:66: RuntimeWarning: os.fork() was called. os.fork() is incompatible with multithreaded code, and JAX is multithreaded, so this will likely lead to a deadlock.\n",
            "  self.pid = os.fork()\n"
          ]
        },
        {
          "data": {
            "application/vnd.google.colaboratory.intrinsic+json": {
              "type": "string"
            },
            "text/plain": [
              "'done'"
            ]
          },
          "execution_count": 4,
          "metadata": {},
          "output_type": "execute_result"
        }
      ],
      "source": [
        "env_fn = knights_archers_zombies_v10\n",
        "env_kwargs = dict(max_cycles=256, max_zombies=4, vector_state=True)\n",
        "\n",
        "env = env_fn.parallel_env(**env_kwargs)  # parallel env so we can create a vector env and parallelize the training.\n",
        "\n",
        "# Hint:\n",
        "# Use supersuit to convert the env into vectorized env(requires black_death wrapper) for param sharing\n",
        "# on multi-agent environment\n",
        "\n",
        "# Then convert the env into SB3 vectorized environment format\n"
      ]
    },
    {
      "cell_type": "markdown",
      "metadata": {
        "id": "vinjJpmowd9g"
      },
      "source": [
        "## Training the policy\n",
        "\n",
        "declare and train your policy here"
      ]
    },
    {
      "cell_type": "code",
      "execution_count": null,
      "metadata": {},
      "outputs": [],
      "source": []
    },
    {
      "cell_type": "markdown",
      "metadata": {
        "id": "SpZ4LUitj6fW"
      },
      "source": [
        "## Visualization\n",
        "\n",
        "You're provided with helper functions and code to create a visualization.\n",
        "\n",
        "But feel free to write your own code if you want"
      ]
    },
    {
      "cell_type": "code",
      "execution_count": 8,
      "metadata": {
        "id": "_UMZZeJkj8HJ"
      },
      "outputs": [],
      "source": [
        "def frames_to_video(frames, fps=24):\n",
        "\n",
        "    fig = plt.figure(figsize=(frames[0].shape[1] / 100, frames[0].shape[0] / 100), dpi=100)\n",
        "    ax = plt.axes()\n",
        "    ax.set_axis_off()\n",
        "\n",
        "    if len(frames[0].shape) == 2:  # Grayscale image\n",
        "        im = ax.imshow(frames[0], cmap='gray')\n",
        "    else:  # Color image\n",
        "        im = ax.imshow(frames[0])\n",
        "\n",
        "    def init():\n",
        "        if len(frames[0].shape) == 2:\n",
        "            im.set_data(frames[0], cmap='gray')\n",
        "        else:\n",
        "            im.set_data(frames[0])\n",
        "        return im,\n",
        "\n",
        "    def update(frame):\n",
        "        if len(frames[frame].shape) == 2:\n",
        "            im.set_data(frames[frame], cmap='gray')\n",
        "        else:\n",
        "            im.set_data(frames[frame])\n",
        "        return im,\n",
        "\n",
        "    interval = 1000 / fps\n",
        "    anim = FuncAnimation(fig, update, frames=len(frames), init_func=init, blit=True, interval=interval)\n",
        "    plt.close()\n",
        "    return HTML(anim.to_html5_video())"
      ]
    },
    {
      "cell_type": "code",
      "execution_count": 9,
      "metadata": {
        "id": "iJFqLOhZykI-"
      },
      "outputs": [],
      "source": [
        "t_env = env_fn.env(render_mode=\"rgb_array\", **env_kwargs)"
      ]
    },
    {
      "cell_type": "code",
      "execution_count": 10,
      "metadata": {
        "id": "FwdEoQfugUOn"
      },
      "outputs": [],
      "source": [
        "t_env.reset()\n",
        "frames = []\n",
        "running = True\n",
        "\n",
        "while running:\n",
        "    for agent in t_env.agent_iter():\n",
        "        obs, reward, termination, truncation, info = t_env.last()\n",
        "\n",
        "        if termination or truncation:\n",
        "            running  = False\n",
        "            break\n",
        "        else:\n",
        "\n",
        "            # Change and use your own policy to generate the action\n",
        "            act = t_env.action_spaces[agent].sample()\n",
        "\n",
        "        t_env.step(act)\n",
        "        frames.append(t_env.render())"
      ]
    },
    {
      "cell_type": "code",
      "execution_count": null,
      "metadata": {
        "colab": {
          "base_uri": "https://localhost:8080/",
          "height": 741
        },
        "id": "FDPkOqyF7qmE",
        "outputId": "5427f9ca-649c-4fe7-91af-fa996016e19e"
      },
      "outputs": [],
      "source": [
        "frames_to_video(frames, 60)"
      ]
    },
    {
      "cell_type": "code",
      "execution_count": null,
      "metadata": {
        "id": "38g3kleOgUOo"
      },
      "outputs": [],
      "source": [
        "t_env.close()"
      ]
    },
    {
      "cell_type": "code",
      "execution_count": null,
      "metadata": {
        "id": "x7Cs2-2XgUOo"
      },
      "outputs": [],
      "source": []
    }
  ],
  "metadata": {
    "accelerator": "GPU",
    "colab": {
      "gpuType": "T4",
      "provenance": []
    },
    "kernelspec": {
      "display_name": "Python 3 (ipykernel)",
      "language": "python",
      "name": "python3"
    },
    "language_info": {
      "codemirror_mode": {
        "name": "ipython",
        "version": 3
      },
      "file_extension": ".py",
      "mimetype": "text/x-python",
      "name": "python",
      "nbconvert_exporter": "python",
      "pygments_lexer": "ipython3",
      "version": "3.10.12"
    }
  },
  "nbformat": 4,
  "nbformat_minor": 0
}
